{
 "cells": [
  {
   "cell_type": "markdown",
   "id": "2f98bba5-2267-4f3a-a03a-1cf3c57e2d60",
   "metadata": {},
   "source": [
    "# Rainbow Trading Agent\n",
    "\n",
    "Pytorch implementation based on original Tensorflow implementation from Clement Perroud\n",
    "\n",
    "1. https://github.com/ClementPerroud/RL-Trading-Agent\n",
    "2. https://github.com/ClementPerroud/Rainbow-Agent"
   ]
  },
  {
   "cell_type": "code",
   "execution_count": 1,
   "id": "4c519cf6-c060-4eb7-813a-bfe8cb62a432",
   "metadata": {},
   "outputs": [],
   "source": [
    "from lab.utils import (\n",
    "    add_features,\n",
    "    reward_function,\n",
    "    max_drawdown,\n",
    "    make_env,\n",
    "    make_agent,\n",
    "    train,\n",
    "    evaluation,\n",
    "    plot_agent,\n",
    "    dump_agent,\n",
    ")"
   ]
  },
  {
   "cell_type": "markdown",
   "id": "3f5c5f65-1ce0-4da6-85e5-fec0b9db2d2a",
   "metadata": {},
   "source": [
    "## Create Environments"
   ]
  },
  {
   "cell_type": "code",
   "execution_count": 2,
   "id": "a894a9cb-65af-4b82-b81f-59f5eef66a5c",
   "metadata": {},
   "outputs": [
    {
     "name": "stdout",
     "output_type": "stream",
     "text": [
      "Using  directory: data/processed/training/*.pkl\n",
      "Using dataset directory: /Users/arcmode/code/trading-rl/data/processed/training/*.pkl\n",
      "Using  directory: data/processed/training/*.pkl\n",
      "Using dataset directory: /Users/arcmode/code/trading-rl/data/processed/training/*.pkl\n",
      "Using  directory: data/processed/training/*.pkl\n",
      "Using dataset directory: /Users/arcmode/code/trading-rl/data/processed/training/*.pkl\n",
      "Using  directory: data/processed/training/*.pkl\n",
      "Using dataset directory: /Users/arcmode/code/trading-rl/data/processed/training/*.pkl\n",
      "Using  directory: data/processed/training/*.pkl\n",
      "Using dataset directory: /Users/arcmode/code/trading-rl/data/processed/training/*.pkl\n",
      "Using  directory: data/processed/validation/*.pkl\n",
      "Using dataset directory: /Users/arcmode/code/trading-rl/data/processed/validation/*.pkl\n",
      "Using  directory: data/processed/validation/*.pkl\n",
      "Using dataset directory: /Users/arcmode/code/trading-rl/data/processed/validation/*.pkl\n",
      "Using  directory: data/processed/validation/*.pkl\n",
      "Using dataset directory: /Users/arcmode/code/trading-rl/data/processed/validation/*.pkl\n",
      "Using  directory: data/processed/validation/*.pkl\n",
      "Using dataset directory: /Users/arcmode/code/trading-rl/data/processed/validation/*.pkl\n",
      "Using  directory: data/processed/validation/*.pkl\n",
      "Using dataset directory: /Users/arcmode/code/trading-rl/data/processed/validation/*.pkl\n"
     ]
    }
   ],
   "source": [
    "import gymnasium as gym\n",
    "\n",
    "training_envs = gym.vector.SyncVectorEnv([lambda: make_env(\"data/processed/training/*.pkl\") for _ in range(5)])\n",
    "validation_envs = gym.vector.SyncVectorEnv([lambda: make_env(\"data/processed/validation/*.pkl\") for _ in range(5)])"
   ]
  },
  {
   "cell_type": "markdown",
   "id": "f7d7e5c7-b44e-4f96-b1fd-2eeb96daba8b",
   "metadata": {},
   "source": [
    "## Initialize Agent"
   ]
  },
  {
   "cell_type": "code",
   "execution_count": 3,
   "id": "0117cfce-f870-4480-818b-6091b666ff21",
   "metadata": {},
   "outputs": [],
   "source": [
    "agent = make_agent()"
   ]
  },
  {
   "cell_type": "markdown",
   "id": "1e9c2552-cf5c-4386-a29c-deec9c46dffc",
   "metadata": {},
   "source": [
    "## Training"
   ]
  },
  {
   "cell_type": "code",
   "execution_count": null,
   "id": "1bd7571b-aad6-46d2-a614-bc9559446648",
   "metadata": {},
   "outputs": [
    {
     "name": "stdout",
     "output_type": "stream",
     "text": [
      "___________________________________________ TRAINING ___________________________________________\n",
      "___________________________________________ VALIDATION ___________________________________________\n",
      "___________________________________________ VALIDATION ___________________________________________\n",
      "___________________________________________ VALIDATION ___________________________________________\n",
      "___________________________________________ VALIDATION ___________________________________________\n",
      "___________________________________________ VALIDATION ___________________________________________\n",
      "___________________________________________ TRAINING ___________________________________________\n"
     ]
    }
   ],
   "source": [
    "NUM_STEPS = 30_000\n",
    "while True:\n",
    "    train(agent, training_envs, validation_envs, steps = NUM_STEPS)\n",
    "    # evaluation(agent, validation_envs)"
   ]
  },
  {
   "cell_type": "code",
   "execution_count": null,
   "id": "de34beb7-23b3-486e-84a0-f0fb7f3cb71b",
   "metadata": {},
   "outputs": [],
   "source": [
    "plot_agent()"
   ]
  },
  {
   "cell_type": "code",
   "execution_count": null,
   "id": "56e0f1da-389e-472d-8099-2e5e14440cdc",
   "metadata": {},
   "outputs": [],
   "source": [
    "# dump_agent()"
   ]
  }
 ],
 "metadata": {
  "kernelspec": {
   "display_name": "Python 3 (ipykernel)",
   "language": "python",
   "name": "python3"
  },
  "language_info": {
   "codemirror_mode": {
    "name": "ipython",
    "version": 3
   },
   "file_extension": ".py",
   "mimetype": "text/x-python",
   "name": "python",
   "nbconvert_exporter": "python",
   "pygments_lexer": "ipython3",
   "version": "3.12.7"
  }
 },
 "nbformat": 4,
 "nbformat_minor": 5
}
