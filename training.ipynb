{
 "cells": [
  {
   "cell_type": "markdown",
   "id": "2f98bba5-2267-4f3a-a03a-1cf3c57e2d60",
   "metadata": {},
   "source": [
    "# Rainbow Trading Agent\n",
    "\n",
    "Pytorch implementation based on original Tensorflow implementation from Clement Perroud\n",
    "\n",
    "1. https://github.com/ClementPerroud/RL-Trading-Agent\n",
    "2. https://github.com/ClementPerroud/Rainbow-Agent"
   ]
  },
  {
   "cell_type": "code",
   "execution_count": 1,
   "id": "4c519cf6-c060-4eb7-813a-bfe8cb62a432",
   "metadata": {},
   "outputs": [],
   "source": [
    "from lab.utils import (\n",
    "    add_features,\n",
    "    reward_function,\n",
    "    max_drawdown,\n",
    "    make_env,\n",
    "    make_agent,\n",
    "    train,\n",
    "    evaluation,\n",
    "    plot_agent,\n",
    "    dump_agent,\n",
    ")"
   ]
  },
  {
   "cell_type": "markdown",
   "id": "3f5c5f65-1ce0-4da6-85e5-fec0b9db2d2a",
   "metadata": {},
   "source": [
    "## Create Environments"
   ]
  },
  {
   "cell_type": "code",
   "execution_count": 2,
   "id": "a894a9cb-65af-4b82-b81f-59f5eef66a5c",
   "metadata": {},
   "outputs": [
    {
     "name": "stdout",
     "output_type": "stream",
     "text": [
      "Using  diectory: data/processed/training/*.pkl\n",
      "Using dataset directory: /Users/arcmode/code/trading-rl/data/processed/training/*.pkl\n",
      "Using  diectory: data/processed/training/*.pkl\n",
      "Using dataset directory: /Users/arcmode/code/trading-rl/data/processed/training/*.pkl\n",
      "Using  diectory: data/processed/training/*.pkl\n",
      "Using dataset directory: /Users/arcmode/code/trading-rl/data/processed/training/*.pkl\n",
      "Using  diectory: data/processed/training/*.pkl\n",
      "Using dataset directory: /Users/arcmode/code/trading-rl/data/processed/training/*.pkl\n",
      "Using  diectory: data/processed/training/*.pkl\n",
      "Using dataset directory: /Users/arcmode/code/trading-rl/data/processed/training/*.pkl\n",
      "Using  diectory: data/processed/validation/*.pkl\n",
      "Using dataset directory: /Users/arcmode/code/trading-rl/data/processed/validation/*.pkl\n",
      "Using  diectory: data/processed/validation/*.pkl\n",
      "Using dataset directory: /Users/arcmode/code/trading-rl/data/processed/validation/*.pkl\n",
      "Using  diectory: data/processed/validation/*.pkl\n",
      "Using dataset directory: /Users/arcmode/code/trading-rl/data/processed/validation/*.pkl\n",
      "Using  diectory: data/processed/validation/*.pkl\n",
      "Using dataset directory: /Users/arcmode/code/trading-rl/data/processed/validation/*.pkl\n",
      "Using  diectory: data/processed/validation/*.pkl\n",
      "Using dataset directory: /Users/arcmode/code/trading-rl/data/processed/validation/*.pkl\n"
     ]
    }
   ],
   "source": [
    "import gymnasium as gym\n",
    "\n",
    "training_envs = gym.vector.SyncVectorEnv([lambda: make_env(\"data/processed/training/*.pkl\") for _ in range(5)])\n",
    "validation_envs = gym.vector.SyncVectorEnv([lambda: make_env(\"data/processed/validation/*.pkl\") for _ in range(5)])"
   ]
  },
  {
   "cell_type": "markdown",
   "id": "f7d7e5c7-b44e-4f96-b1fd-2eeb96daba8b",
   "metadata": {},
   "source": [
    "## Initialize Agent"
   ]
  },
  {
   "cell_type": "code",
   "execution_count": 3,
   "id": "0117cfce-f870-4480-818b-6091b666ff21",
   "metadata": {},
   "outputs": [],
   "source": [
    "agent = make_agent()"
   ]
  },
  {
   "cell_type": "markdown",
   "id": "1e9c2552-cf5c-4386-a29c-deec9c46dffc",
   "metadata": {},
   "source": [
    "## Training"
   ]
  },
  {
   "cell_type": "code",
   "execution_count": null,
   "id": "1bd7571b-aad6-46d2-a614-bc9559446648",
   "metadata": {},
   "outputs": [
    {
     "name": "stdout",
     "output_type": "stream",
     "text": [
      "___________________________________________ TRAINING ___________________________________________\n",
      "___________________________________________ VALIDATION ___________________________________________\n",
      "___________________________________________ VALIDATION ___________________________________________\n",
      "___________________________________________ VALIDATION ___________________________________________\n",
      "___________________________________________ VALIDATION ___________________________________________\n",
      "___________________________________________ VALIDATION ___________________________________________\n",
      "___________________________________________ TRAINING ___________________________________________\n",
      "___________________________________________ VALIDATION ___________________________________________\n",
      "___________________________________________ VALIDATION ___________________________________________\n",
      "___________________________________________ VALIDATION ___________________________________________\n",
      "___________________________________________ VALIDATION ___________________________________________\n",
      "___________________________________________ VALIDATION ___________________________________________\n",
      "___________________________________________ TRAINING ___________________________________________\n",
      "___________________________________________ VALIDATION ___________________________________________\n",
      "___________________________________________ VALIDATION ___________________________________________\n",
      "___________________________________________ VALIDATION ___________________________________________\n",
      "___________________________________________ VALIDATION ___________________________________________\n",
      "___________________________________________ VALIDATION ___________________________________________\n",
      "Market Return : 2687.72%   |   Portfolio Return : -100.00%   |   Position Changes : 68.37%   |   Max Drawdown : -100.00%   |   \n",
      "↳ Env 3 : 000 :    88984   |   00:07:03   |   Epsilon : 0.00%   |   Mean Loss (last 10k) : 1.1549E+00   |   Tot. Rewards : -8495.41   |   Rewards (/1000 steps) :   -95.47   |   Length :  88984\n",
      "Market Return : 1575.80%   |   Portfolio Return : -99.99%   |   Position Changes : 68.55%   |   Max Drawdown : -99.99%   |   \n",
      "↳ Env 2 : 000 :    89740   |   00:07:07   |   Epsilon : 0.00%   |   Mean Loss (last 10k) : 1.1538E+00   |   Tot. Rewards : -7527.57   |   Rewards (/1000 steps) :   -83.88   |   Length :  89740\n",
      "___________________________________________ TRAINING ___________________________________________\n",
      "Market Return : 2320.59%   |   Portfolio Return : -99.91%   |   Position Changes : 68.30%   |   Max Drawdown : -99.95%   |   \n",
      "Market Return : 2305.81%   |   Portfolio Return : -99.91%   |   Position Changes : 68.28%   |   Max Drawdown : -99.97%   |   \n",
      "↳ Env 0 : 000 :    94242   |   00:07:29   |   Epsilon : 0.00%   |   Mean Loss (last 10k) : 1.1478E+00   |   Tot. Rewards : -5605.07   |   Rewards (/1000 steps) :   -59.48   |   Length :  94242\n",
      "↳ Env 1 : 000 :    94242   |   00:07:29   |   Epsilon : 0.00%   |   Mean Loss (last 10k) : 1.1478E+00   |   Tot. Rewards : -5641.71   |   Rewards (/1000 steps) :   -59.86   |   Length :  94242\n",
      "Market Return : 1766.58%   |   Portfolio Return : -99.97%   |   Position Changes : 68.42%   |   Max Drawdown : -99.97%   |   \n",
      "↳ Env 4 : 000 :    94243   |   00:07:30   |   Epsilon : 0.00%   |   Mean Loss (last 10k) : 1.1478E+00   |   Tot. Rewards : -6496.72   |   Rewards (/1000 steps) :   -68.94   |   Length :  94243\n",
      "___________________________________________ VALIDATION ___________________________________________\n",
      "___________________________________________ VALIDATION ___________________________________________\n",
      "___________________________________________ VALIDATION ___________________________________________\n",
      "___________________________________________ VALIDATION ___________________________________________\n",
      "___________________________________________ VALIDATION ___________________________________________\n",
      "___________________________________________ TRAINING ___________________________________________\n",
      "___________________________________________ VALIDATION ___________________________________________\n",
      "___________________________________________ VALIDATION ___________________________________________\n",
      "___________________________________________ VALIDATION ___________________________________________\n",
      "___________________________________________ VALIDATION ___________________________________________\n",
      "___________________________________________ VALIDATION ___________________________________________\n",
      "___________________________________________ TRAINING ___________________________________________\n",
      "___________________________________________ VALIDATION ___________________________________________\n",
      "___________________________________________ VALIDATION ___________________________________________\n",
      "___________________________________________ VALIDATION ___________________________________________\n",
      "___________________________________________ VALIDATION ___________________________________________\n",
      "___________________________________________ VALIDATION ___________________________________________\n",
      "Market Return : 2669.06%   |   Portfolio Return : -98.57%   |   Position Changes : 54.51%   |   Max Drawdown : -98.78%   |   \n",
      "↳ Env 3 : 001 :   177939   |   00:14:58   |   Epsilon : 0.00%   |   Mean Loss (last 10k) : 1.0460E+00   |   Tot. Rewards : -3398.02   |   Rewards (/1000 steps) :   -38.20   |   Length :  88955\n",
      "___________________________________________ TRAINING ___________________________________________\n",
      "Market Return : 2687.72%   |   Portfolio Return : -99.90%   |   Position Changes : 52.87%   |   Max Drawdown : -99.90%   |   \n",
      "Market Return : 2687.72%   |   Portfolio Return : -99.62%   |   Position Changes : 52.69%   |   Max Drawdown : -99.73%   |   \n",
      "↳ Env 0 : 001 :   183228   |   00:15:27   |   Epsilon : 0.00%   |   Mean Loss (last 10k) : 1.0449E+00   |   Tot. Rewards : -5499.96   |   Rewards (/1000 steps) :   -61.81   |   Length :  88986\n",
      "↳ Env 1 : 001 :   183228   |   00:15:27   |   Epsilon : 0.00%   |   Mean Loss (last 10k) : 1.0449E+00   |   Tot. Rewards : -4461.39   |   Rewards (/1000 steps) :   -50.14   |   Length :  88986\n",
      "Market Return : 2669.52%   |   Portfolio Return : -98.14%   |   Position Changes : 52.65%   |   Max Drawdown : -98.60%   |   \n",
      "↳ Env 4 : 001 :   183240   |   00:15:28   |   Epsilon : 0.00%   |   Mean Loss (last 10k) : 1.0449E+00   |   Tot. Rewards : -3186.46   |   Rewards (/1000 steps) :   -35.80   |   Length :  88997\n",
      "Market Return : 1768.29%   |   Portfolio Return : -99.92%   |   Position Changes : 53.23%   |   Max Drawdown : -99.93%   |   \n",
      "↳ Env 2 : 001 :   183985   |   00:15:32   |   Epsilon : 0.00%   |   Mean Loss (last 10k) : 1.0449E+00   |   Tot. Rewards : -5756.17   |   Rewards (/1000 steps) :   -61.08   |   Length :  94245\n",
      "___________________________________________ VALIDATION ___________________________________________\n",
      "___________________________________________ VALIDATION ___________________________________________\n",
      "___________________________________________ VALIDATION ___________________________________________\n",
      "___________________________________________ VALIDATION ___________________________________________\n",
      "___________________________________________ VALIDATION ___________________________________________\n",
      "___________________________________________ TRAINING ___________________________________________\n",
      "___________________________________________ VALIDATION ___________________________________________\n",
      "___________________________________________ VALIDATION ___________________________________________\n",
      "___________________________________________ VALIDATION ___________________________________________\n",
      "___________________________________________ VALIDATION ___________________________________________\n",
      "___________________________________________ VALIDATION ___________________________________________\n",
      "___________________________________________ TRAINING ___________________________________________\n",
      "___________________________________________ VALIDATION ___________________________________________\n",
      "___________________________________________ VALIDATION ___________________________________________\n",
      "___________________________________________ VALIDATION ___________________________________________\n",
      "___________________________________________ VALIDATION ___________________________________________\n",
      "___________________________________________ VALIDATION ___________________________________________\n",
      "___________________________________________ TRAINING ___________________________________________\n",
      "Market Return : 1773.47%   |   Portfolio Return : -91.89%   |   Position Changes : 44.36%   |   Max Drawdown : -94.72%   |   \n",
      "↳ Env 3 : 002 :   272183   |   00:24:16   |   Epsilon : 0.00%   |   Mean Loss (last 10k) : 1.0293E+00   |   Tot. Rewards : -2009.73   |   Rewards (/1000 steps) :   -21.32   |   Length :  94244\n",
      "Market Return : 1571.57%   |   Portfolio Return : -85.31%   |   Position Changes : 43.91%   |   Max Drawdown : -92.75%   |   \n",
      "↳ Env 0 : 002 :   272945   |   00:24:21   |   Epsilon : 0.00%   |   Mean Loss (last 10k) : 1.0291E+00   |   Tot. Rewards : -1534.45   |   Rewards (/1000 steps) :   -17.10   |   Length :  89717\n",
      "Market Return : 1575.83%   |   Portfolio Return : -93.49%   |   Position Changes : 43.83%   |   Max Drawdown : -95.27%   |   \n",
      "↳ Env 1 : 002 :   272957   |   00:24:21   |   Epsilon : 0.00%   |   Mean Loss (last 10k) : 1.0291E+00   |   Tot. Rewards : -2184.99   |   Rewards (/1000 steps) :   -24.35   |   Length :  89729\n",
      "Market Return : 1575.83%   |   Portfolio Return : -96.45%   |   Position Changes : 44.18%   |   Max Drawdown : -96.64%   |   \n",
      "↳ Env 4 : 002 :   272969   |   00:24:21   |   Epsilon : 0.00%   |   Mean Loss (last 10k) : 1.0290E+00   |   Tot. Rewards : -2670.08   |   Rewards (/1000 steps) :   -29.76   |   Length :  89729\n",
      "Market Return : 2687.72%   |   Portfolio Return : -75.53%   |   Position Changes : 43.52%   |   Max Drawdown : -93.36%   |   \n",
      "↳ Env 2 : 002 :   272971   |   00:24:22   |   Epsilon : 0.00%   |   Mean Loss (last 10k) : 1.0290E+00   |   Tot. Rewards : -1126.13   |   Rewards (/1000 steps) :   -12.66   |   Length :  88986\n",
      "___________________________________________ VALIDATION ___________________________________________\n",
      "___________________________________________ VALIDATION ___________________________________________\n",
      "___________________________________________ VALIDATION ___________________________________________\n",
      "___________________________________________ VALIDATION ___________________________________________\n",
      "___________________________________________ VALIDATION ___________________________________________\n",
      "___________________________________________ TRAINING ___________________________________________\n",
      "___________________________________________ VALIDATION ___________________________________________\n"
     ]
    }
   ],
   "source": [
    "NUM_STEPS = 30_000\n",
    "while True:\n",
    "    train(agent, training_envs, validation_envs, steps = NUM_STEPS)\n",
    "    # evaluation(agent, validation_envs)"
   ]
  },
  {
   "cell_type": "code",
   "execution_count": null,
   "id": "de34beb7-23b3-486e-84a0-f0fb7f3cb71b",
   "metadata": {},
   "outputs": [],
   "source": [
    "plot_agent()"
   ]
  },
  {
   "cell_type": "code",
   "execution_count": null,
   "id": "56e0f1da-389e-472d-8099-2e5e14440cdc",
   "metadata": {},
   "outputs": [],
   "source": [
    "# dump_agent()"
   ]
  }
 ],
 "metadata": {
  "kernelspec": {
   "display_name": "Python 3 (ipykernel)",
   "language": "python",
   "name": "python3"
  },
  "language_info": {
   "codemirror_mode": {
    "name": "ipython",
    "version": 3
   },
   "file_extension": ".py",
   "mimetype": "text/x-python",
   "name": "python",
   "nbconvert_exporter": "python",
   "pygments_lexer": "ipython3",
   "version": "3.12.7"
  }
 },
 "nbformat": 4,
 "nbformat_minor": 5
}
