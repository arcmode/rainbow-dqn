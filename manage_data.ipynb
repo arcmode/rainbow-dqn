{
 "cells": [
  {
   "cell_type": "code",
   "execution_count": 2,
   "id": "e8e40043-6f79-477d-b503-f3f4339b515d",
   "metadata": {},
   "outputs": [],
   "source": [
    "# Modified from https://github.com/ClementPerroud/RL-Trading-Agent/blob/main/manage_data.ipynb\n",
    "\n",
    "import pandas as pd\n",
    "import numpy as np\n",
    "import glob\n",
    "from pathlib import Path\n",
    "from tqdm.auto import tqdm  \n",
    "\n",
    "from gym_trading_env.downloader import download\n",
    "import datetime"
   ]
  },
  {
   "cell_type": "code",
   "execution_count": 3,
   "id": "65add751-56c8-4bb3-a87c-351568116d66",
   "metadata": {},
   "outputs": [],
   "source": [
    "download_dir = \"data/raw\"\n",
    "processed_dir = \"data/processed/\"\n",
    "\n",
    "TARGET_TIMEFRAME = pd.Timedelta(\"30m\")\n",
    "download_timeframe = \"5m\""
   ]
  },
  {
   "cell_type": "code",
   "execution_count": 6,
   "id": "f0439339-66b0-470f-8f6a-3550dbcef3b2",
   "metadata": {},
   "outputs": [
    {
     "name": "stdout",
     "output_type": "stream",
     "text": [
      "BTC/USDT downloaded from huobi and stored at data/raw/huobi-BTCUSDT-5m.pkl\n",
      "BTC/USDT downloaded from bitfinex2 and stored at data/raw/bitfinex2-BTCUSDT-5m.pkl\n",
      "ETH/USDT downloaded from huobi and stored at data/raw/huobi-ETHUSDT-5m.pkl\n",
      "ETH/USDT downloaded from bitfinex2 and stored at data/raw/bitfinex2-ETHUSDT-5m.pkl\n"
     ]
    }
   ],
   "source": [
    "download(\n",
    "    exchange_names = [\n",
    "        # \"binance\",\n",
    "        \"bitfinex2\",\n",
    "        \"huobi\"\n",
    "    ],\n",
    "    symbols= [\"BTC/USDT\", \"ETH/USDT\"],\n",
    "    timeframe= download_timeframe,\n",
    "    dir = download_dir,\n",
    "    since= datetime.datetime(year= 2019, month= 1, day=1),\n",
    ")"
   ]
  },
  {
   "cell_type": "code",
   "execution_count": 5,
   "id": "d792b98d-b0dc-4014-9d50-8eb7451aae4d",
   "metadata": {},
   "outputs": [
    {
     "data": {
      "application/vnd.jupyter.widget-view+json": {
       "model_id": "4d4dab4253a746d09c9588c78cdc0d99",
       "version_major": 2,
       "version_minor": 0
      },
      "text/plain": [
       "  0%|          | 0/4 [00:00<?, ?it/s]"
      ]
     },
     "metadata": {},
     "output_type": "display_data"
    }
   ],
   "source": [
    "pathes = glob.glob(f\"{download_dir}/*pkl\")\n",
    "for path in tqdm(pathes):\n",
    "    name = Path(path).name.split(\".\")[0]\n",
    "    df  = pd.read_pickle(path)\n",
    "    timeframe = (df.index - df.index.to_series().shift(1)).value_counts().index[0]\n",
    "    for offset in range(TARGET_TIMEFRAME//timeframe):\n",
    "        process_df = df.resample(\"30min\", offset= offset*timeframe).agg({\n",
    "            \"date_close\": lambda x : x.iloc[-1] if len(x) > 0 else np.nan,\n",
    "            \"open\": lambda x : x.iloc[0] if len(x) > 0 else np.nan,\n",
    "            \"high\": lambda x : max(x) if len(x) > 0 else np.nan,\n",
    "            \"low\": lambda x : min(x) if len(x) > 0 else np.nan,\n",
    "            \"close\": lambda x : x.iloc[-1] if len(x) > 0 else np.nan,\n",
    "            \"volume\": lambda x : sum(x) if len(x) > 0 else np.nan\n",
    "        })[1:-1]\n",
    "        process_df.dropna(inplace = True)\n",
    "        # process_df.to_pickle(f\"data/processed/{name}-{offset}.pkl\")\n",
    "        bp = int(0.9 * process_df.shape[0]);\n",
    "        process_df.iloc[bp:, :].to_pickle(f\"{processed_dir}/validation/{name}-{offset}.pkl\");\n",
    "        process_df.iloc[:bp, :].to_pickle(f\"{processed_dir}/training/{name}-{offset}.pkl\")"
   ]
  }
 ],
 "metadata": {
  "kernelspec": {
   "display_name": "Python 3 (ipykernel)",
   "language": "python",
   "name": "python3"
  },
  "language_info": {
   "codemirror_mode": {
    "name": "ipython",
    "version": 3
   },
   "file_extension": ".py",
   "mimetype": "text/x-python",
   "name": "python",
   "nbconvert_exporter": "python",
   "pygments_lexer": "ipython3",
   "version": "3.12.7"
  }
 },
 "nbformat": 4,
 "nbformat_minor": 5
}
